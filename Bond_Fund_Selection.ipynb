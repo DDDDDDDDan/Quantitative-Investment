{
 "cells": [
  {
   "cell_type": "markdown",
   "source": [
    "# 股债收益差"
   ],
   "metadata": {
    "collapsed": false
   }
  },
  {
   "cell_type": "code",
   "execution_count": 1,
   "outputs": [],
   "source": [
    "# 1.获取数据，需指数收盘点位、pe-ttm、股息率、pb-ttm； 中债10年国债收益率\n",
    "# 2.筛选指数\n",
    "# 3.判断指数分布\n",
    "# 4.计算股债收益差\n",
    "# 5.回测收益\n",
    "# 6.判断是否正太分布最为有效，是否需要使用其他分布\n",
    "# 7.判断那种指标更有效\n",
    "# 8.获取当前分位点，给出推荐建议"
   ],
   "metadata": {
    "collapsed": false,
    "ExecuteTime": {
     "start_time": "2023-04-16T16:27:24.550855Z",
     "end_time": "2023-04-16T16:27:24.558835Z"
    }
   }
  },
  {
   "cell_type": "code",
   "execution_count": 2,
   "outputs": [],
   "source": [
    "import pandas as pd\n",
    "import numpy as np\n",
    "from scipy import stats\n",
    "import matplotlib.pyplot as plt"
   ],
   "metadata": {
    "collapsed": false,
    "ExecuteTime": {
     "start_time": "2023-04-16T16:27:24.558835Z",
     "end_time": "2023-04-16T16:27:25.323764Z"
    }
   }
  },
  {
   "cell_type": "code",
   "execution_count": 3,
   "outputs": [],
   "source": [
    "# 通过akshare获取指数数据\n",
    "import akshare as ak"
   ],
   "metadata": {
    "collapsed": false,
    "ExecuteTime": {
     "start_time": "2023-04-16T16:27:25.313794Z",
     "end_time": "2023-04-16T16:27:26.227922Z"
    }
   }
  },
  {
   "cell_type": "markdown",
   "source": [
    "# 获取指数数据"
   ],
   "metadata": {
    "collapsed": false
   }
  },
  {
   "cell_type": "markdown",
   "source": [
    "* 大盘指数"
   ],
   "metadata": {
    "collapsed": false
   }
  },
  {
   "cell_type": "code",
   "execution_count": 2,
   "outputs": [],
   "source": [
    "# PE数据\n",
    "stock_market_pe_lg_df = ak.stock_index_pe_lg(symbol=\"沪深300\").sort_index(ascending=False)\n",
    "# PB数据\n",
    "stock_market_pb_lg_df = ak.stock_index_pb_lg(symbol=\"沪深300\").sort_index(ascending=False)\n",
    "# 股息率数据 choice of {\"上证A股\", \"深证A股\", \"创业板\", \"科创板\"}\n",
    "stock_a_gxl_lg_df = ak.stock_a_gxl_lg(symbol=\"上证A股\").sort_index(ascending=False)"
   ],
   "metadata": {
    "collapsed": false,
    "ExecuteTime": {
     "start_time": "2023-04-15T15:33:09.735082Z",
     "end_time": "2023-04-15T15:33:11.233680Z"
    }
   }
  },
  {
   "cell_type": "markdown",
   "source": [
    "* 获取大盘指数数据"
   ],
   "metadata": {
    "collapsed": false
   }
  },
  {
   "cell_type": "code",
   "execution_count": 4,
   "outputs": [],
   "source": [
    "fund_info_index_em_df = ak.fund_info_index_em(symbol=\"行业主题\", indicator=\"被动指数型\")"
   ],
   "metadata": {
    "collapsed": false,
    "ExecuteTime": {
     "start_time": "2023-04-16T16:27:57.536884Z",
     "end_time": "2023-04-16T16:27:57.978504Z"
    }
   }
  },
  {
   "cell_type": "code",
   "execution_count": 5,
   "outputs": [
    {
     "data": {
      "text/plain": "       基金代码                   基金名称    单位净值          日期  日增长率   近1周    近1月  \\\n0    012768         华夏中证动漫游戏ETF联接A  1.4335  2023-04-14 -1.02  0.66  45.81   \n1    012769         华夏中证动漫游戏ETF联接C  1.4267  2023-04-14 -1.02  0.66  45.78   \n2    012728         国泰中证动漫游戏ETF联接A  1.4104  2023-04-14 -0.91  0.94  42.62   \n3    012729         国泰中证动漫游戏ETF联接C  1.4028  2023-04-14 -0.92  0.93  42.59   \n4    161628  融通中证云计算与大数据主题指数(LOF)A  1.2946  2023-04-14  0.61 -4.87  16.73   \n..      ...                    ...     ...         ...   ...   ...    ...   \n719  018173    华泰柏瑞中证全指电力ETF发起式联接C  1.0000  2023-04-14   NaN   NaN    NaN   \n720  017832   华夏中证港股通消费主题ETF发起式联接A  0.9932  2023-04-14  0.18 -1.57    NaN   \n721  017833   华夏中证港股通消费主题ETF发起式联接C  0.9930  2023-04-14  0.18 -1.58    NaN   \n722  018172    华泰柏瑞中证全指电力ETF发起式联接A  1.0000  2023-04-14   NaN   NaN    NaN   \n723  018104  易方达中证港股通消费主题ETF发起式联接C  1.0058  2023-04-14  0.18 -1.14    NaN   \n\n       近3月    近6月    近1年    近2年    近3年    今年来    成立来   手续费 起购金额  跟踪标的   跟踪方式  \n0    64.73  90.27  61.79    NaN    NaN  74.33  43.35  0.12  10元  行业主题  被动指数型  \n1    64.63  90.00  61.32    NaN    NaN  74.18  42.67  0.00  10元  行业主题  被动指数型  \n2    60.91  85.09  59.17    NaN    NaN  70.09  41.04  0.10  10元  行业主题  被动指数型  \n3    60.78  84.80  58.69    NaN    NaN  69.93  40.28  0.00  10元  行业主题  被动指数型  \n4    40.75  63.46  58.57  19.07  50.53  46.96  -4.02  0.12  10元  行业主题  被动指数型  \n..     ...    ...    ...    ...    ...    ...    ...   ...  ...   ...    ...  \n719    NaN    NaN    NaN    NaN    NaN    NaN    NaN  0.00  10元  行业主题  被动指数型  \n720    NaN    NaN    NaN    NaN    NaN    NaN  -0.68  0.12  10元  行业主题  被动指数型  \n721    NaN    NaN    NaN    NaN    NaN    NaN  -0.70  0.00  10元  行业主题  被动指数型  \n722    NaN    NaN    NaN    NaN    NaN    NaN    NaN  0.12  10元  行业主题  被动指数型  \n723    NaN    NaN    NaN    NaN    NaN    NaN   0.58  0.00  10元  行业主题  被动指数型  \n\n[724 rows x 18 columns]",
      "text/html": "<div>\n<style scoped>\n    .dataframe tbody tr th:only-of-type {\n        vertical-align: middle;\n    }\n\n    .dataframe tbody tr th {\n        vertical-align: top;\n    }\n\n    .dataframe thead th {\n        text-align: right;\n    }\n</style>\n<table border=\"1\" class=\"dataframe\">\n  <thead>\n    <tr style=\"text-align: right;\">\n      <th></th>\n      <th>基金代码</th>\n      <th>基金名称</th>\n      <th>单位净值</th>\n      <th>日期</th>\n      <th>日增长率</th>\n      <th>近1周</th>\n      <th>近1月</th>\n      <th>近3月</th>\n      <th>近6月</th>\n      <th>近1年</th>\n      <th>近2年</th>\n      <th>近3年</th>\n      <th>今年来</th>\n      <th>成立来</th>\n      <th>手续费</th>\n      <th>起购金额</th>\n      <th>跟踪标的</th>\n      <th>跟踪方式</th>\n    </tr>\n  </thead>\n  <tbody>\n    <tr>\n      <th>0</th>\n      <td>012768</td>\n      <td>华夏中证动漫游戏ETF联接A</td>\n      <td>1.4335</td>\n      <td>2023-04-14</td>\n      <td>-1.02</td>\n      <td>0.66</td>\n      <td>45.81</td>\n      <td>64.73</td>\n      <td>90.27</td>\n      <td>61.79</td>\n      <td>NaN</td>\n      <td>NaN</td>\n      <td>74.33</td>\n      <td>43.35</td>\n      <td>0.12</td>\n      <td>10元</td>\n      <td>行业主题</td>\n      <td>被动指数型</td>\n    </tr>\n    <tr>\n      <th>1</th>\n      <td>012769</td>\n      <td>华夏中证动漫游戏ETF联接C</td>\n      <td>1.4267</td>\n      <td>2023-04-14</td>\n      <td>-1.02</td>\n      <td>0.66</td>\n      <td>45.78</td>\n      <td>64.63</td>\n      <td>90.00</td>\n      <td>61.32</td>\n      <td>NaN</td>\n      <td>NaN</td>\n      <td>74.18</td>\n      <td>42.67</td>\n      <td>0.00</td>\n      <td>10元</td>\n      <td>行业主题</td>\n      <td>被动指数型</td>\n    </tr>\n    <tr>\n      <th>2</th>\n      <td>012728</td>\n      <td>国泰中证动漫游戏ETF联接A</td>\n      <td>1.4104</td>\n      <td>2023-04-14</td>\n      <td>-0.91</td>\n      <td>0.94</td>\n      <td>42.62</td>\n      <td>60.91</td>\n      <td>85.09</td>\n      <td>59.17</td>\n      <td>NaN</td>\n      <td>NaN</td>\n      <td>70.09</td>\n      <td>41.04</td>\n      <td>0.10</td>\n      <td>10元</td>\n      <td>行业主题</td>\n      <td>被动指数型</td>\n    </tr>\n    <tr>\n      <th>3</th>\n      <td>012729</td>\n      <td>国泰中证动漫游戏ETF联接C</td>\n      <td>1.4028</td>\n      <td>2023-04-14</td>\n      <td>-0.92</td>\n      <td>0.93</td>\n      <td>42.59</td>\n      <td>60.78</td>\n      <td>84.80</td>\n      <td>58.69</td>\n      <td>NaN</td>\n      <td>NaN</td>\n      <td>69.93</td>\n      <td>40.28</td>\n      <td>0.00</td>\n      <td>10元</td>\n      <td>行业主题</td>\n      <td>被动指数型</td>\n    </tr>\n    <tr>\n      <th>4</th>\n      <td>161628</td>\n      <td>融通中证云计算与大数据主题指数(LOF)A</td>\n      <td>1.2946</td>\n      <td>2023-04-14</td>\n      <td>0.61</td>\n      <td>-4.87</td>\n      <td>16.73</td>\n      <td>40.75</td>\n      <td>63.46</td>\n      <td>58.57</td>\n      <td>19.07</td>\n      <td>50.53</td>\n      <td>46.96</td>\n      <td>-4.02</td>\n      <td>0.12</td>\n      <td>10元</td>\n      <td>行业主题</td>\n      <td>被动指数型</td>\n    </tr>\n    <tr>\n      <th>...</th>\n      <td>...</td>\n      <td>...</td>\n      <td>...</td>\n      <td>...</td>\n      <td>...</td>\n      <td>...</td>\n      <td>...</td>\n      <td>...</td>\n      <td>...</td>\n      <td>...</td>\n      <td>...</td>\n      <td>...</td>\n      <td>...</td>\n      <td>...</td>\n      <td>...</td>\n      <td>...</td>\n      <td>...</td>\n      <td>...</td>\n    </tr>\n    <tr>\n      <th>719</th>\n      <td>018173</td>\n      <td>华泰柏瑞中证全指电力ETF发起式联接C</td>\n      <td>1.0000</td>\n      <td>2023-04-14</td>\n      <td>NaN</td>\n      <td>NaN</td>\n      <td>NaN</td>\n      <td>NaN</td>\n      <td>NaN</td>\n      <td>NaN</td>\n      <td>NaN</td>\n      <td>NaN</td>\n      <td>NaN</td>\n      <td>NaN</td>\n      <td>0.00</td>\n      <td>10元</td>\n      <td>行业主题</td>\n      <td>被动指数型</td>\n    </tr>\n    <tr>\n      <th>720</th>\n      <td>017832</td>\n      <td>华夏中证港股通消费主题ETF发起式联接A</td>\n      <td>0.9932</td>\n      <td>2023-04-14</td>\n      <td>0.18</td>\n      <td>-1.57</td>\n      <td>NaN</td>\n      <td>NaN</td>\n      <td>NaN</td>\n      <td>NaN</td>\n      <td>NaN</td>\n      <td>NaN</td>\n      <td>NaN</td>\n      <td>-0.68</td>\n      <td>0.12</td>\n      <td>10元</td>\n      <td>行业主题</td>\n      <td>被动指数型</td>\n    </tr>\n    <tr>\n      <th>721</th>\n      <td>017833</td>\n      <td>华夏中证港股通消费主题ETF发起式联接C</td>\n      <td>0.9930</td>\n      <td>2023-04-14</td>\n      <td>0.18</td>\n      <td>-1.58</td>\n      <td>NaN</td>\n      <td>NaN</td>\n      <td>NaN</td>\n      <td>NaN</td>\n      <td>NaN</td>\n      <td>NaN</td>\n      <td>NaN</td>\n      <td>-0.70</td>\n      <td>0.00</td>\n      <td>10元</td>\n      <td>行业主题</td>\n      <td>被动指数型</td>\n    </tr>\n    <tr>\n      <th>722</th>\n      <td>018172</td>\n      <td>华泰柏瑞中证全指电力ETF发起式联接A</td>\n      <td>1.0000</td>\n      <td>2023-04-14</td>\n      <td>NaN</td>\n      <td>NaN</td>\n      <td>NaN</td>\n      <td>NaN</td>\n      <td>NaN</td>\n      <td>NaN</td>\n      <td>NaN</td>\n      <td>NaN</td>\n      <td>NaN</td>\n      <td>NaN</td>\n      <td>0.12</td>\n      <td>10元</td>\n      <td>行业主题</td>\n      <td>被动指数型</td>\n    </tr>\n    <tr>\n      <th>723</th>\n      <td>018104</td>\n      <td>易方达中证港股通消费主题ETF发起式联接C</td>\n      <td>1.0058</td>\n      <td>2023-04-14</td>\n      <td>0.18</td>\n      <td>-1.14</td>\n      <td>NaN</td>\n      <td>NaN</td>\n      <td>NaN</td>\n      <td>NaN</td>\n      <td>NaN</td>\n      <td>NaN</td>\n      <td>NaN</td>\n      <td>0.58</td>\n      <td>0.00</td>\n      <td>10元</td>\n      <td>行业主题</td>\n      <td>被动指数型</td>\n    </tr>\n  </tbody>\n</table>\n<p>724 rows × 18 columns</p>\n</div>"
     },
     "execution_count": 5,
     "metadata": {},
     "output_type": "execute_result"
    }
   ],
   "source": [
    "fund_info_index_em_df"
   ],
   "metadata": {
    "collapsed": false,
    "ExecuteTime": {
     "start_time": "2023-04-16T16:28:02.275411Z",
     "end_time": "2023-04-16T16:28:02.311314Z"
    }
   }
  },
  {
   "cell_type": "code",
   "execution_count": 30,
   "outputs": [],
   "source": [
    "fund_exchange_rank_em_df = ak.fund_exchange_rank_em()\n",
    "ETF_name = fund_exchange_rank_em_df['基金简称']"
   ],
   "metadata": {
    "collapsed": false,
    "ExecuteTime": {
     "start_time": "2023-04-15T15:51:48.284914Z",
     "end_time": "2023-04-15T15:51:49.663201Z"
    }
   }
  },
  {
   "cell_type": "code",
   "execution_count": 32,
   "outputs": [],
   "source": [
    "# ETF_name中同一类ETF只保留一种\n",
    "\n"
   ],
   "metadata": {
    "collapsed": false,
    "ExecuteTime": {
     "start_time": "2023-04-15T15:52:24.397344Z",
     "end_time": "2023-04-15T15:52:24.405323Z"
    }
   }
  },
  {
   "cell_type": "code",
   "execution_count": 31,
   "outputs": [
    {
     "data": {
      "text/plain": "0         华夏中证动漫游戏ETF\n1       华泰柏瑞中证动漫游戏ETF\n2         国泰中证动漫游戏ETF\n3          华夏中证云计算ETF\n4          招商中证云计算ETF\n            ...      \n751    招商中证500增强策略ETF\n752     天弘中证1000增强ETF\n753       华夏中证全指运输ETF\n754    鹏华国证疫苗与生物科技ETF\n755       富国中证绿色电力ETF\nName: 基金简称, Length: 756, dtype: object"
     },
     "execution_count": 31,
     "metadata": {},
     "output_type": "execute_result"
    }
   ],
   "source": [
    "ETF_name"
   ],
   "metadata": {
    "collapsed": false,
    "ExecuteTime": {
     "start_time": "2023-04-15T15:51:51.366225Z",
     "end_time": "2023-04-15T15:51:51.381954Z"
    }
   }
  },
  {
   "cell_type": "markdown",
   "source": [
    "* 申万行业指数"
   ],
   "metadata": {
    "collapsed": false
   }
  },
  {
   "cell_type": "code",
   "execution_count": 12,
   "outputs": [],
   "source": [
    "#index_value_hist_funddb_df = ak.index_value_hist_funddb(symbol=\"大盘成长\", indicator=\"市盈率\")\n",
    "# 获取行业指数名称\n",
    "index_value_name_funddb_df = ak.index_value_name_funddb()\n",
    "index_value_name = index_value_name_funddb_df[index_value_name_funddb_df['指数名称'].str.contains('申万')]['指数名称'].unique()\n",
    "index_value_hist_funddb_df = ak.index_value_hist_funddb(symbol=index_value_name[0], indicator=\"市净率\") #choice of {'市盈率', '市净率', '股息率', '风险溢价'}"
   ],
   "metadata": {
    "collapsed": false,
    "ExecuteTime": {
     "start_time": "2023-04-15T15:36:28.189773Z",
     "end_time": "2023-04-15T15:36:28.603524Z"
    }
   }
  },
  {
   "cell_type": "code",
   "execution_count": 7,
   "outputs": [
    {
     "name": "stdout",
     "output_type": "stream",
     "text": [
      "            指数名称   最新PE    PE分位  最新PB   PB分位   股息率  股息率分位        指数代码  \\\n",
      "0           光伏产业  19.53    0.21  3.85  50.05  0.67  67.05  931151.CSI   \n",
      "1           中证新能  18.78    0.31  3.40  57.38  0.61  46.70   399808.SZ   \n",
      "2          中证新能源  18.78    0.34  3.40  63.87  0.61  36.30  930771.CSI   \n",
      "3          CS稀金属  11.85    0.79  3.37  28.12  0.60  69.78  930632.CSI   \n",
      "4          胡志明指数  10.74    1.00  0.00   1.92  1.92  33.14  VNINDEX.GI   \n",
      "..           ...    ...     ...   ...    ...   ...    ...         ...   \n",
      "254      500价值稳健  16.16  100.00  1.13  55.60  3.48  61.99  931587.CSI   \n",
      "255  富时发达市场REITs   0.00    0.00  0.00   0.00  0.00   0.00    ERGLU.FI   \n",
      "256  富时中国A-H50指数   0.00    0.00  0.00   0.00  0.00   0.00   FCAH50.FI   \n",
      "257    万得可转债等权指数   0.00    0.00  0.00   0.00  0.00   0.00   889033.WI   \n",
      "258         中证畜牧   0.00   97.55  0.00  26.60  0.00  79.29  930707.CSI   \n",
      "\n",
      "         指数开始时间        更新时间  \n",
      "0    2019-04-22  2023-04-14  \n",
      "1    2015-02-10  2023-04-14  \n",
      "2    2015-12-16  2023-04-14  \n",
      "3    2015-05-12  2023-04-14  \n",
      "4    2000-07-28  2023-04-14  \n",
      "..          ...         ...  \n",
      "254  2020-11-09  2023-04-14  \n",
      "255  2006-03-30  2023-02-20  \n",
      "256  2016-02-15  2023-02-20  \n",
      "257  2022-11-21  2023-02-20  \n",
      "258  2015-07-13  2023-04-13  \n",
      "\n",
      "[259 rows x 10 columns]\n"
     ]
    }
   ],
   "source": [
    "index_value_name_funddb_df = ak.index_value_name_funddb()\n",
    "print(index_value_name_funddb_df)"
   ],
   "metadata": {
    "collapsed": false,
    "ExecuteTime": {
     "start_time": "2023-04-15T21:55:55.959149Z",
     "end_time": "2023-04-15T21:55:55.976105Z"
    }
   }
  },
  {
   "cell_type": "code",
   "execution_count": 3,
   "outputs": [
    {
     "name": "stdout",
     "output_type": "stream",
     "text": [
      "         行业代码  行业名称  成份个数  静态市盈率  TTM(滚动)市盈率   市净率  静态股息率\n",
      "0   801010.SI  农林牧渔    99  45.97       45.31  2.74   0.63\n",
      "1   801030.SI  基础化工   347  15.25       15.27  2.31   2.20\n",
      "2   801040.SI    钢铁    45   8.69       13.56  1.02   5.47\n",
      "3   801050.SI  有色金属   129  16.16       15.19  2.68   1.17\n",
      "4   801080.SI    电子   309  33.69       33.04  3.22   1.07\n",
      "5   801880.SI    汽车   246  24.97       25.85  2.10   1.39\n",
      "6   801110.SI  家用电器    79  16.57       15.56  2.75   3.05\n",
      "7   801120.SI  食品饮料   120  34.96       33.22  6.98   1.93\n",
      "8   801130.SI  纺织服饰   113  17.07       17.96  1.86   3.56\n",
      "9   801140.SI  轻工制造   149  22.26       23.93  2.29   1.87\n",
      "10  801150.SI  医药生物   363  26.86       25.75  3.46   1.11\n",
      "11  801160.SI  公用事业   123  21.56       21.19  1.88   2.21\n",
      "12  801170.SI  交通运输   125   9.37        9.44  1.30   4.50\n",
      "13  801180.SI   房地产   115  12.47       13.30  0.97   3.51\n",
      "14  801200.SI  商贸零售   103  28.98       29.19  2.34   1.69\n",
      "15  801210.SI  社会服务    73  63.24       62.53  3.57   0.54\n",
      "16  801780.SI    银行    42   4.78        4.74  0.55   5.62\n",
      "17  801790.SI  非银金融    88  16.55       17.29  1.32   2.66\n",
      "18  801230.SI    综合    24  63.52       34.38  2.01   0.74\n",
      "19  801710.SI  建筑材料    74  14.25       15.52  1.41   3.97\n",
      "20  801720.SI  建筑装饰   159   9.54        9.30  1.06   1.95\n",
      "21  801730.SI  电力设备   269  29.15       24.60  3.55   0.67\n",
      "22  801890.SI  机械设备   403  28.43       26.88  2.42   1.59\n",
      "23  801740.SI  国防军工    97  54.37       50.59  3.81   0.47\n",
      "24  801750.SI   计算机   270  48.95       53.56  4.68   0.69\n",
      "25  801760.SI    传媒   140  25.96       29.16  2.60   1.84\n",
      "26  801770.SI    通信   108  21.08       20.44  1.81   3.21\n",
      "27  801950.SI    煤炭    39   7.66        6.54  1.36   6.88\n",
      "28  801960.SI  石油石化    47   8.77        9.10  1.17   5.61\n",
      "29  801970.SI    环保   112  15.93       18.04  1.62   1.72\n",
      "30  801980.SI  美容护理    28  47.01       47.26  5.27   0.65\n"
     ]
    }
   ],
   "source": [
    "sw_index_first_info_df = ak.sw_index_first_info()\n",
    "print(sw_index_first_info_df)"
   ],
   "metadata": {
    "collapsed": false,
    "ExecuteTime": {
     "start_time": "2023-04-15T21:52:11.999405Z",
     "end_time": "2023-04-15T21:52:13.543213Z"
    }
   }
  },
  {
   "cell_type": "code",
   "execution_count": 33,
   "outputs": [
    {
     "data": {
      "text/plain": "array(['有色金属(申万)', '煤炭(申万)', '光伏设备(申万)', '电力设备(申万)', '国防军工(申万)',\n       '生物制品(申万)', '医药生物(申万)', '交通运输(申万)', '银行(申万)', '基础化工(申万)',\n       '石油石化(申万)', '中盘指数(申万)', '通信设备(申万)', '通信(申万)', '环保(申万)', '化学制药(申万)',\n       '家用电器(申万)', '风电设备(申万)', '纺织服饰(申万)', '电子(申万)', '保险Ⅱ(申万)',\n       '小盘指数(申万)', '券商Ⅱ(申万)', '建筑装饰(申万)', '轻工制造(申万)', '综合(申万)',\n       '建筑材料(申万)', '机械设备(申万)', '非银金融(申万)', '钢铁(申万)', '传媒(申万)', '大盘指数(申万)',\n       '食品饮料(申万)', '房地产(申万)', '公用事业(申万)', '计算机(申万)', '商贸零售(申万)', '汽车(申万)',\n       '农林牧渔(申万)', '社会服务(申万)', '美容护理(申万)'], dtype=object)"
     },
     "execution_count": 33,
     "metadata": {},
     "output_type": "execute_result"
    }
   ],
   "source": [
    "index_value_name"
   ],
   "metadata": {
    "collapsed": false,
    "ExecuteTime": {
     "start_time": "2023-04-15T16:25:40.917894Z",
     "end_time": "2023-04-15T16:25:40.940833Z"
    }
   }
  },
  {
   "cell_type": "code",
   "execution_count": null,
   "outputs": [],
   "source": [],
   "metadata": {
    "collapsed": false
   }
  },
  {
   "cell_type": "code",
   "execution_count": null,
   "outputs": [],
   "source": [],
   "metadata": {
    "collapsed": false
   }
  },
  {
   "cell_type": "markdown",
   "source": [
    "# 获取中债10年国债收益率"
   ],
   "metadata": {
    "collapsed": false
   }
  },
  {
   "cell_type": "code",
   "execution_count": 17,
   "outputs": [
    {
     "name": "stderr",
     "output_type": "stream",
     "text": [
      "                                               \r"
     ]
    },
    {
     "data": {
      "text/plain": "              日期  中国国债收益率10年\n0     2002-01-04      3.2096\n1     2002-01-07      3.2003\n2     2002-01-08      3.5225\n3     2002-01-09      3.5896\n4     2002-01-10      3.5784\n...          ...         ...\n5311  2023-04-10      2.8455\n5312  2023-04-11      2.8203\n5313  2023-04-12      2.8158\n5314  2023-04-13      2.8277\n5315  2023-04-14      2.8281\n\n[5316 rows x 2 columns]",
      "text/html": "<div>\n<style scoped>\n    .dataframe tbody tr th:only-of-type {\n        vertical-align: middle;\n    }\n\n    .dataframe tbody tr th {\n        vertical-align: top;\n    }\n\n    .dataframe thead th {\n        text-align: right;\n    }\n</style>\n<table border=\"1\" class=\"dataframe\">\n  <thead>\n    <tr style=\"text-align: right;\">\n      <th></th>\n      <th>日期</th>\n      <th>中国国债收益率10年</th>\n    </tr>\n  </thead>\n  <tbody>\n    <tr>\n      <th>0</th>\n      <td>2002-01-04</td>\n      <td>3.2096</td>\n    </tr>\n    <tr>\n      <th>1</th>\n      <td>2002-01-07</td>\n      <td>3.2003</td>\n    </tr>\n    <tr>\n      <th>2</th>\n      <td>2002-01-08</td>\n      <td>3.5225</td>\n    </tr>\n    <tr>\n      <th>3</th>\n      <td>2002-01-09</td>\n      <td>3.5896</td>\n    </tr>\n    <tr>\n      <th>4</th>\n      <td>2002-01-10</td>\n      <td>3.5784</td>\n    </tr>\n    <tr>\n      <th>...</th>\n      <td>...</td>\n      <td>...</td>\n    </tr>\n    <tr>\n      <th>5311</th>\n      <td>2023-04-10</td>\n      <td>2.8455</td>\n    </tr>\n    <tr>\n      <th>5312</th>\n      <td>2023-04-11</td>\n      <td>2.8203</td>\n    </tr>\n    <tr>\n      <th>5313</th>\n      <td>2023-04-12</td>\n      <td>2.8158</td>\n    </tr>\n    <tr>\n      <th>5314</th>\n      <td>2023-04-13</td>\n      <td>2.8277</td>\n    </tr>\n    <tr>\n      <th>5315</th>\n      <td>2023-04-14</td>\n      <td>2.8281</td>\n    </tr>\n  </tbody>\n</table>\n<p>5316 rows × 2 columns</p>\n</div>"
     },
     "execution_count": 17,
     "metadata": {},
     "output_type": "execute_result"
    }
   ],
   "source": [
    "bond_zh_10_rate_df = ak.bond_zh_us_rate()[['日期','中国国债收益率10年']].dropna().reset_index(drop=True)\n",
    "bond_zh_10_rate_df"
   ],
   "metadata": {
    "collapsed": false,
    "ExecuteTime": {
     "start_time": "2023-04-15T15:39:07.139248Z",
     "end_time": "2023-04-15T15:39:09.364510Z"
    }
   }
  },
  {
   "cell_type": "code",
   "execution_count": null,
   "outputs": [],
   "source": [],
   "metadata": {
    "collapsed": false
   }
  }
 ],
 "metadata": {
  "kernelspec": {
   "display_name": "Python 3",
   "language": "python",
   "name": "python3"
  },
  "language_info": {
   "codemirror_mode": {
    "name": "ipython",
    "version": 2
   },
   "file_extension": ".py",
   "mimetype": "text/x-python",
   "name": "python",
   "nbconvert_exporter": "python",
   "pygments_lexer": "ipython2",
   "version": "2.7.6"
  }
 },
 "nbformat": 4,
 "nbformat_minor": 0
}
