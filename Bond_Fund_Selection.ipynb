{
 "cells": [
  {
   "cell_type": "markdown",
   "source": [
    "# 债券基金选择"
   ],
   "metadata": {
    "collapsed": false
   }
  },
  {
   "cell_type": "markdown",
   "source": [
    "1. 获取长债基金基本信息\n",
    "2. 获取基金历史行情，并进行年化收益率、夏普比率、最大回撤计算\n",
    "3. 将计算结果进行标准化处理，并加权求和，得到最终得分\n",
    "4. 根据得分进行排序，得到最终结果"
   ],
   "metadata": {
    "collapsed": false
   }
  },
  {
   "cell_type": "code",
   "execution_count": 62,
   "outputs": [],
   "source": [
    "# 导入库\n",
    "import akshare as ak\n",
    "import empyrical as ep\n",
    "import pandas as pd\n",
    "import datetime"
   ],
   "metadata": {
    "collapsed": false
   }
  },
  {
   "cell_type": "markdown",
   "source": [
    "## 1.获取长债基金基本信息"
   ],
   "metadata": {
    "collapsed": false
   }
  },
  {
   "cell_type": "code",
   "execution_count": 63,
   "outputs": [],
   "source": [
    "# 获取基金名称\n",
    "fund_purchase_em_df = ak.fund_purchase_em()\n",
    "# 获取基金类型为债券型-长债的基金\n",
    "fund_purchase_em_bond_df = fund_purchase_em_df[fund_purchase_em_df['基金类型'].str.contains('债券型-长债')]\n",
    "# 获取申购状态为开放申购的基金\n",
    "fund_purchase_em_bond_open_df = fund_purchase_em_bond_df[fund_purchase_em_bond_df['申购状态'] == '开放申购']\n",
    "# 删除基金简称结尾为C的基金\n",
    "fund_purchase_em_bond_open_df = fund_purchase_em_bond_open_df[~fund_purchase_em_bond_open_df['基金简称'].str.endswith('C')]\n",
    "# 获取基金代码\n",
    "fund_code = fund_purchase_em_bond_open_df['基金代码'].reset_index(drop=True)"
   ],
   "metadata": {
    "collapsed": false,
    "ExecuteTime": {
     "start_time": "2023-04-16T16:27:05.997489Z",
     "end_time": "2023-04-16T16:27:18.533132Z"
    }
   }
  },
  {
   "cell_type": "code",
   "execution_count": 64,
   "outputs": [
    {
     "data": {
      "text/plain": "          序号    基金代码           基金简称    基金类型  最新净值/万份收益 最新净值/万份收益-报告时间  申购状态  \\\n11        12  000015        华夏纯债债券A  债券型-长债     1.3000          04-14  开放申购   \n16        17  000024      大摩双利增强债券A  债券型-长债     1.1303          04-14  开放申购   \n22        23  000032      易方达信用债债券A  债券型-长债     1.1088          04-14  开放申购   \n35        36  000053     鹏华永诚一年定开债券  债券型-长债     1.0256          04-14  开放申购   \n66        67  000086   南方稳利1年持有期债券A  债券型-长债     1.0797          04-14  开放申购   \n...      ...     ...            ...     ...        ...            ...   ...   \n18172  18173  970038     东莞德益6个月持有债  债券型-长债     1.0636          04-14  开放申购   \n18193  18194  970059  安信瑞盈3个月滚动持有债B  债券型-长债     1.0577          04-14  开放申购   \n18205  18206  970071       第一创业创享纯债  债券型-长债     1.0366          04-14  开放申购   \n18240  18241  970106   第一创业创和一个月持有债  债券型-长债     1.0250          04-14  开放申购   \n18256  18257  970122        上证弘利债券A  债券型-长债     1.0454          04-14  开放申购   \n\n       赎回状态       下一开放日    购买起点       日累计限定金额   手续费  \n11     开放赎回         NaT    10.0  1.000000e+11  0.08  \n16     开放赎回         NaT    10.0  1.000000e+11  0.08  \n22     开放赎回         NaT    10.0  1.000000e+11  0.08  \n35     暂停赎回  2023-03-27    10.0  1.000000e+11  0.08  \n66     开放赎回         NaT    10.0  1.000000e+10  0.06  \n...     ...         ...     ...           ...   ...  \n18172  开放赎回         NaT   100.0  1.000000e+11  0.60  \n18193  开放赎回         NaT    10.0  1.000000e+11  0.05  \n18205  开放赎回         NaT    10.0  1.000000e+11  0.04  \n18240  开放赎回         NaT    10.0  1.000000e+11  0.04  \n18256  开放赎回         NaT  1000.0  0.000000e+00  0.30  \n\n[640 rows x 12 columns]",
      "text/html": "<div>\n<style scoped>\n    .dataframe tbody tr th:only-of-type {\n        vertical-align: middle;\n    }\n\n    .dataframe tbody tr th {\n        vertical-align: top;\n    }\n\n    .dataframe thead th {\n        text-align: right;\n    }\n</style>\n<table border=\"1\" class=\"dataframe\">\n  <thead>\n    <tr style=\"text-align: right;\">\n      <th></th>\n      <th>序号</th>\n      <th>基金代码</th>\n      <th>基金简称</th>\n      <th>基金类型</th>\n      <th>最新净值/万份收益</th>\n      <th>最新净值/万份收益-报告时间</th>\n      <th>申购状态</th>\n      <th>赎回状态</th>\n      <th>下一开放日</th>\n      <th>购买起点</th>\n      <th>日累计限定金额</th>\n      <th>手续费</th>\n    </tr>\n  </thead>\n  <tbody>\n    <tr>\n      <th>11</th>\n      <td>12</td>\n      <td>000015</td>\n      <td>华夏纯债债券A</td>\n      <td>债券型-长债</td>\n      <td>1.3000</td>\n      <td>04-14</td>\n      <td>开放申购</td>\n      <td>开放赎回</td>\n      <td>NaT</td>\n      <td>10.0</td>\n      <td>1.000000e+11</td>\n      <td>0.08</td>\n    </tr>\n    <tr>\n      <th>16</th>\n      <td>17</td>\n      <td>000024</td>\n      <td>大摩双利增强债券A</td>\n      <td>债券型-长债</td>\n      <td>1.1303</td>\n      <td>04-14</td>\n      <td>开放申购</td>\n      <td>开放赎回</td>\n      <td>NaT</td>\n      <td>10.0</td>\n      <td>1.000000e+11</td>\n      <td>0.08</td>\n    </tr>\n    <tr>\n      <th>22</th>\n      <td>23</td>\n      <td>000032</td>\n      <td>易方达信用债债券A</td>\n      <td>债券型-长债</td>\n      <td>1.1088</td>\n      <td>04-14</td>\n      <td>开放申购</td>\n      <td>开放赎回</td>\n      <td>NaT</td>\n      <td>10.0</td>\n      <td>1.000000e+11</td>\n      <td>0.08</td>\n    </tr>\n    <tr>\n      <th>35</th>\n      <td>36</td>\n      <td>000053</td>\n      <td>鹏华永诚一年定开债券</td>\n      <td>债券型-长债</td>\n      <td>1.0256</td>\n      <td>04-14</td>\n      <td>开放申购</td>\n      <td>暂停赎回</td>\n      <td>2023-03-27</td>\n      <td>10.0</td>\n      <td>1.000000e+11</td>\n      <td>0.08</td>\n    </tr>\n    <tr>\n      <th>66</th>\n      <td>67</td>\n      <td>000086</td>\n      <td>南方稳利1年持有期债券A</td>\n      <td>债券型-长债</td>\n      <td>1.0797</td>\n      <td>04-14</td>\n      <td>开放申购</td>\n      <td>开放赎回</td>\n      <td>NaT</td>\n      <td>10.0</td>\n      <td>1.000000e+10</td>\n      <td>0.06</td>\n    </tr>\n    <tr>\n      <th>...</th>\n      <td>...</td>\n      <td>...</td>\n      <td>...</td>\n      <td>...</td>\n      <td>...</td>\n      <td>...</td>\n      <td>...</td>\n      <td>...</td>\n      <td>...</td>\n      <td>...</td>\n      <td>...</td>\n      <td>...</td>\n    </tr>\n    <tr>\n      <th>18172</th>\n      <td>18173</td>\n      <td>970038</td>\n      <td>东莞德益6个月持有债</td>\n      <td>债券型-长债</td>\n      <td>1.0636</td>\n      <td>04-14</td>\n      <td>开放申购</td>\n      <td>开放赎回</td>\n      <td>NaT</td>\n      <td>100.0</td>\n      <td>1.000000e+11</td>\n      <td>0.60</td>\n    </tr>\n    <tr>\n      <th>18193</th>\n      <td>18194</td>\n      <td>970059</td>\n      <td>安信瑞盈3个月滚动持有债B</td>\n      <td>债券型-长债</td>\n      <td>1.0577</td>\n      <td>04-14</td>\n      <td>开放申购</td>\n      <td>开放赎回</td>\n      <td>NaT</td>\n      <td>10.0</td>\n      <td>1.000000e+11</td>\n      <td>0.05</td>\n    </tr>\n    <tr>\n      <th>18205</th>\n      <td>18206</td>\n      <td>970071</td>\n      <td>第一创业创享纯债</td>\n      <td>债券型-长债</td>\n      <td>1.0366</td>\n      <td>04-14</td>\n      <td>开放申购</td>\n      <td>开放赎回</td>\n      <td>NaT</td>\n      <td>10.0</td>\n      <td>1.000000e+11</td>\n      <td>0.04</td>\n    </tr>\n    <tr>\n      <th>18240</th>\n      <td>18241</td>\n      <td>970106</td>\n      <td>第一创业创和一个月持有债</td>\n      <td>债券型-长债</td>\n      <td>1.0250</td>\n      <td>04-14</td>\n      <td>开放申购</td>\n      <td>开放赎回</td>\n      <td>NaT</td>\n      <td>10.0</td>\n      <td>1.000000e+11</td>\n      <td>0.04</td>\n    </tr>\n    <tr>\n      <th>18256</th>\n      <td>18257</td>\n      <td>970122</td>\n      <td>上证弘利债券A</td>\n      <td>债券型-长债</td>\n      <td>1.0454</td>\n      <td>04-14</td>\n      <td>开放申购</td>\n      <td>开放赎回</td>\n      <td>NaT</td>\n      <td>1000.0</td>\n      <td>0.000000e+00</td>\n      <td>0.30</td>\n    </tr>\n  </tbody>\n</table>\n<p>640 rows × 12 columns</p>\n</div>"
     },
     "execution_count": 64,
     "metadata": {},
     "output_type": "execute_result"
    }
   ],
   "source": [
    "fund_purchase_em_bond_open_df"
   ],
   "metadata": {
    "collapsed": false,
    "ExecuteTime": {
     "start_time": "2023-04-16T16:27:18.545100Z",
     "end_time": "2023-04-16T16:27:18.548092Z"
    }
   }
  },
  {
   "cell_type": "markdown",
   "source": [
    "## 2. 获取基金历史行情，并进行年化收益率、夏普比率、最大回撤计算"
   ],
   "metadata": {
    "collapsed": false
   }
  },
  {
   "cell_type": "code",
   "execution_count": 67,
   "outputs": [
    {
     "name": "stdout",
     "output_type": "stream",
     "text": [
      "0\n",
      "100\n",
      "200\n",
      "300\n",
      "400\n",
      "500\n",
      "600\n"
     ]
    }
   ],
   "source": [
    "# 生成一个空df，列名为：基金代码，近一年收益率，成立以来收益率，近一年夏普比率，成立以来夏普比率，成立以来最大回撤\n",
    "sharpe_ratio_all_df = pd.DataFrame(columns=['基金代码','近一年收益率','成立以来收益率','近一年夏普比率','成立以来夏普比率','成立以来最大回撤'])\n",
    "today = datetime.date.today()\n",
    "# 循环fund_code获取每个基金的指标数据\n",
    "for i in range(len(fund_code)):\n",
    "    if i % 100 == 0:\n",
    "        print(i)\n",
    "    try:\n",
    "        fund_open_fund_info_em_df = ak.fund_open_fund_info_em(fund=fund_code[i])\n",
    "        # 如果基金成立日期小于2020年1月1日，则计算夏普比率\n",
    "        if fund_open_fund_info_em_df['净值日期'].min() < datetime.date(2020,1,1):\n",
    "            # 将净值日期转换为datetime类型\n",
    "            fund_open_fund_info_em_df['净值日期'] = pd.to_datetime(fund_open_fund_info_em_df['净值日期'])\n",
    "            # 将净值日期设置为index\n",
    "            fund_open_fund_info_em_df.set_index('净值日期', inplace=True)\n",
    "            returns = fund_open_fund_info_em_df['日增长率']/100\n",
    "            # 计算近一年年化收益率\n",
    "            returns_1year = ep.stats.annual_return(returns[today - datetime.timedelta(days=365*5):today])\n",
    "            # 计算成立以来年化收益率\n",
    "            returns_all = ep.stats.annual_return(returns)\n",
    "            # 计算夏普比率\n",
    "            if returns[today - datetime.timedelta(days=365):today].std() == 0: #防止除数为0\n",
    "                sharpe_ratio_year = 0\n",
    "            else:\n",
    "                sharpe_ratio_year = returns[today - datetime.timedelta(days=365):today].mean() / returns[today - datetime.timedelta(days=365):today].std()\n",
    "            if returns.std() == 0:\n",
    "                sharpe_ratio_all = 0\n",
    "            else:\n",
    "                sharpe_ratio_all = returns.mean() / returns.std()\n",
    "            # 计算近5年最大回撤,因为10年前最大回撤有重大波动，所以只计算近5年的最大回撤\n",
    "            max_drawdown = ep.stats.max_drawdown(returns[today - datetime.timedelta(days=365*5):today])\n",
    "            sharpe_ratio_all_df.loc[i] = [fund_code[i],returns_1year,returns_all,sharpe_ratio_year,sharpe_ratio_all,max_drawdown]\n",
    "    except:\n",
    "        continue"
   ],
   "metadata": {
    "collapsed": false,
    "ExecuteTime": {
     "start_time": "2023-04-16T16:37:37.309237Z",
     "end_time": "2023-04-16T16:41:44.600816Z"
    }
   }
  },
  {
   "cell_type": "markdown",
   "source": [
    "## 3. 将计算结果进行标准化处理，并加权求和，得到最终得分"
   ],
   "metadata": {
    "collapsed": false
   }
  },
  {
   "cell_type": "code",
   "execution_count": 84,
   "outputs": [],
   "source": [
    "# 用于保存数据\n",
    "sharpe_ratio_df = sharpe_ratio_all_df.copy()\n",
    "# 删除近一年收益率超过0.1的数据，改收益率源于巨额赎回导致的基金净值异常\n",
    "sharpe_ratio_df = sharpe_ratio_df[sharpe_ratio_df['近一年收益率'] < 0.1]\n",
    "#创建列，在sharpe_ratio_df中，将近一年收益率，成立以来收益率，近一年夏普比率，成立以来夏普比率，成立以来最大回撤进行标准化处理，处理公式为：(x - mean) / std\n",
    "sharpe_ratio_df['近一年收益率_norm'] = (sharpe_ratio_df['近一年收益率'] - sharpe_ratio_df['近一年收益率'].mean()) / sharpe_ratio_df['近一年收益率'].std()\n",
    "sharpe_ratio_df['成立以来收益率_norm'] = (sharpe_ratio_df['成立以来收益率'] - sharpe_ratio_df['成立以来收益率'].mean()) / sharpe_ratio_df['成立以来收益率'].std()\n",
    "sharpe_ratio_df['近一年夏普比率_norm'] = (sharpe_ratio_df['近一年夏普比率'] - sharpe_ratio_df['近一年夏普比率'].mean()) / sharpe_ratio_df['近一年夏普比率'].std()\n",
    "sharpe_ratio_df['成立以来夏普比率_norm'] = (sharpe_ratio_df['成立以来夏普比率'] - sharpe_ratio_df['成立以来夏普比率'].mean()) / sharpe_ratio_df['成立以来夏普比率'].std()\n",
    "# 因为最大回撤越小越好，所以需要将最大回撤进行反向处理\n",
    "sharpe_ratio_df['成立以来最大回撤_norm'] = - (sharpe_ratio_df['成立以来最大回撤'] - sharpe_ratio_df['成立以来最大回撤'].mean()) / sharpe_ratio_df['成立以来最大回撤'].std()\n",
    "# 加权进行指标计算，权重为：近一年收益率*0.2，成立以来收益率*0.4，近一年夏普比率*0.1，成立以来夏普比率*0.2，成立以来最大回撤*0.2\n",
    "sharpe_ratio_df['综合指标'] = sharpe_ratio_df['近一年收益率']*0.2 + sharpe_ratio_df['成立以来收益率']*0.4 + sharpe_ratio_df['近一年夏普比率']*0.1 + sharpe_ratio_df['成立以来夏普比率']*0.2 + sharpe_ratio_df['成立以来最大回撤']*0.2\n",
    "# 将sharpe_ratio_df添加一列基金简称，根据每行的基金代码，找到在 fund_purchase_em_bond_open_df对应的基金简称，下一开放日，日累计限定金额，手续费\n",
    "sharpe_ratio_df['基金简称'] = sharpe_ratio_df['基金代码'].apply(lambda x: fund_purchase_em_bond_open_df[fund_purchase_em_bond_open_df['基金代码'] == x]['基金简称'].values[0])\n",
    "sharpe_ratio_df['下一开放日'] = sharpe_ratio_df['基金代码'].apply(lambda x: fund_purchase_em_bond_open_df[fund_purchase_em_bond_open_df['基金代码'] == x]['下一开放日'].values[0])\n",
    "sharpe_ratio_df['日累计限定金额'] = sharpe_ratio_df['基金代码'].apply(lambda x: fund_purchase_em_bond_open_df[fund_purchase_em_bond_open_df['基金代码'] == x]['日累计限定金额'].values[0])\n",
    "sharpe_ratio_df['手续费'] = sharpe_ratio_df['基金代码'].apply(lambda x: fund_purchase_em_bond_open_df[fund_purchase_em_bond_open_df['基金代码'] == x]['手续费'].values[0])"
   ],
   "metadata": {
    "collapsed": false,
    "ExecuteTime": {
     "start_time": "2023-04-16T16:57:11.018016Z",
     "end_time": "2023-04-16T16:57:11.030904Z"
    }
   }
  },
  {
   "cell_type": "markdown",
   "source": [
    "## 4. 将计算结果进行排序，得到最终结果"
   ],
   "metadata": {
    "collapsed": false
   }
  },
  {
   "cell_type": "code",
   "execution_count": 89,
   "outputs": [],
   "source": [
    "# 将sharpe_ratio_df按照综合指标降序排列,提取出前20个基金\n",
    "best_fund_code = sharpe_ratio_df.sort_values(by='综合指标',ascending=False).head(20)"
   ],
   "metadata": {
    "collapsed": false,
    "ExecuteTime": {
     "start_time": "2023-04-16T17:27:07.723225Z",
     "end_time": "2023-04-16T17:27:07.740333Z"
    }
   }
  },
  {
   "cell_type": "code",
   "execution_count": 90,
   "outputs": [
    {
     "data": {
      "text/plain": "       基金代码    近一年收益率   成立以来收益率   近一年夏普比率  成立以来夏普比率  成立以来最大回撤  近一年收益率_norm  \\\n64   003078  0.043110  0.042011  0.417035  0.430785 -0.015367     0.596983   \n155  005872  0.030160  0.030160  0.303596  0.482508 -0.006285    -0.451580   \n118  004629  0.033681  0.034844  0.315045  0.464190 -0.010697    -0.166478   \n132  005315  0.036697  0.038523  0.326935  0.406589 -0.011219     0.077749   \n86   003614  0.035821  0.037265  0.285878  0.432124 -0.014314     0.006823   \n194  006681  0.031133  0.031133  0.296366  0.426711 -0.011187    -0.372798   \n88   003668  0.037518  0.037905  0.304233  0.391075 -0.007973     0.144175   \n280  007703  0.030679  0.030679  0.322854  0.405580 -0.010792    -0.409533   \n139  005531  0.038567  0.039298  0.279694  0.378142 -0.016173     0.229135   \n168  006152  0.029503  0.029503  0.294502  0.381801 -0.011439    -0.504782   \n229  007167  0.039671  0.039671  0.255527  0.373099 -0.020702     0.318491   \n100  003978  0.044585  0.045962  0.201256  0.379482 -0.022758     0.716420   \n263  007447  0.038551  0.038551  0.377847  0.305991 -0.024530     0.227862   \n77   003424  0.047802  0.047421  0.225085  0.338402 -0.019847     0.976863   \n248  007329  0.030549  0.030549  0.398932  0.299565 -0.018601    -0.420050   \n164  006071  0.029204  0.029204  0.299535  0.351269 -0.017205    -0.529019   \n149  005709  0.043484  0.043484  0.250474  0.328731 -0.014900     0.627257   \n216  007023  0.031165  0.031165  0.336626  0.319560 -0.013598    -0.370222   \n98   003891  0.031880  0.033004  0.239262  0.365625 -0.016808    -0.312290   \n102  004027  0.043938  0.045013  0.223043  0.337332 -0.028530     0.663991   \n\n     成立以来收益率_norm  近一年夏普比率_norm  成立以来夏普比率_norm  成立以来最大回撤_norm      综合指标  \\\n64       0.378419      2.763188       2.629874      -0.555934  0.150213   \n155     -0.534759      1.505542       3.229729      -0.909376  0.143700   \n118     -0.173866      1.632474       3.017288      -0.737680  0.142877   \n132      0.109685      1.764290       2.349264      -0.717376  0.134516   \n86       0.012706      1.309109       2.645410      -0.596915  0.134220   \n194     -0.459786      1.425385       2.582626      -0.718598  0.131421   \n88       0.061999      1.512600       2.169342      -0.843691  0.129709   \n280     -0.494745      1.719040       2.337572      -0.733983  0.129651   \n139      0.169332      1.240545       2.019353      -0.524585  0.123796   \n168     -0.585389      1.404715       2.061788      -0.708784  0.121224   \n229      0.198080      0.972619       1.960878      -0.348342  0.119835   \n100      0.682843      0.370949       2.034902      -0.268311  0.118772   \n263      0.111833      2.328730       1.182603      -0.199373  0.117208   \n77       0.795292      0.635130       1.558477      -0.381602  0.114748   \n248     -0.504754      2.562487       1.108070      -0.430109  0.114416   \n164     -0.608454      1.460513       1.707705      -0.484426  0.114288   \n149      0.491918      0.916599       1.446322      -0.574105  0.113904   \n216     -0.457335      1.871723       1.339962      -0.624768  0.113554   \n98      -0.315598      0.792296       1.874195      -0.499877  0.113267   \n102      0.609723      0.612490       1.546077      -0.043703  0.110857   \n\n              基金简称       下一开放日       日累计限定金额   手续费  \n64       泰康安惠纯债债券A         NaT  1.000000e+11  0.08  \n155         太平恒利纯债         NaT  1.000000e+11  0.08  \n118     国寿安保安瑞纯债债券         NaT  1.000000e+11  0.08  \n132  泰达宏利交利3个月定开债A  2023-04-14  0.000000e+00  0.80  \n86         信诚景瑞债券A         NaT  1.000000e+11  0.08  \n194     景顺长城景泰聚利纯债         NaT  0.000000e+00  0.80  \n88        东方红益鑫纯债A         NaT  1.000000e+11  0.07  \n280        万家鑫盛纯债A         NaT  0.000000e+00  0.80  \n139        华安安悦债券A         NaT  0.000000e+00  0.80  \n168       国联安增鑫纯债A         NaT  1.000000e+11  0.06  \n229        华安安和债券A         NaT  0.000000e+00  0.80  \n100        中信建投稳祥A         NaT  1.000000e+11  0.06  \n263         平安惠泰纯债         NaT  1.000000e+11  0.08  \n77          江信洪福纯债         NaT  1.000000e+11  0.05  \n248      摩根瑞益纯债债券A         NaT  1.000000e+11  0.08  \n164        银河睿嘉债券A         NaT  1.000000e+11  0.08  \n149        华安鼎益债券A         NaT  1.000000e+11  0.08  \n216      中银证券安泽债券A         NaT  1.000000e+11  0.08  \n98       汇安嘉裕纯债债券A         NaT  1.000000e+11  0.03  \n102        广发景源纯债A         NaT  1.000000e+11  0.08  ",
      "text/html": "<div>\n<style scoped>\n    .dataframe tbody tr th:only-of-type {\n        vertical-align: middle;\n    }\n\n    .dataframe tbody tr th {\n        vertical-align: top;\n    }\n\n    .dataframe thead th {\n        text-align: right;\n    }\n</style>\n<table border=\"1\" class=\"dataframe\">\n  <thead>\n    <tr style=\"text-align: right;\">\n      <th></th>\n      <th>基金代码</th>\n      <th>近一年收益率</th>\n      <th>成立以来收益率</th>\n      <th>近一年夏普比率</th>\n      <th>成立以来夏普比率</th>\n      <th>成立以来最大回撤</th>\n      <th>近一年收益率_norm</th>\n      <th>成立以来收益率_norm</th>\n      <th>近一年夏普比率_norm</th>\n      <th>成立以来夏普比率_norm</th>\n      <th>成立以来最大回撤_norm</th>\n      <th>综合指标</th>\n      <th>基金简称</th>\n      <th>下一开放日</th>\n      <th>日累计限定金额</th>\n      <th>手续费</th>\n    </tr>\n  </thead>\n  <tbody>\n    <tr>\n      <th>64</th>\n      <td>003078</td>\n      <td>0.043110</td>\n      <td>0.042011</td>\n      <td>0.417035</td>\n      <td>0.430785</td>\n      <td>-0.015367</td>\n      <td>0.596983</td>\n      <td>0.378419</td>\n      <td>2.763188</td>\n      <td>2.629874</td>\n      <td>-0.555934</td>\n      <td>0.150213</td>\n      <td>泰康安惠纯债债券A</td>\n      <td>NaT</td>\n      <td>1.000000e+11</td>\n      <td>0.08</td>\n    </tr>\n    <tr>\n      <th>155</th>\n      <td>005872</td>\n      <td>0.030160</td>\n      <td>0.030160</td>\n      <td>0.303596</td>\n      <td>0.482508</td>\n      <td>-0.006285</td>\n      <td>-0.451580</td>\n      <td>-0.534759</td>\n      <td>1.505542</td>\n      <td>3.229729</td>\n      <td>-0.909376</td>\n      <td>0.143700</td>\n      <td>太平恒利纯债</td>\n      <td>NaT</td>\n      <td>1.000000e+11</td>\n      <td>0.08</td>\n    </tr>\n    <tr>\n      <th>118</th>\n      <td>004629</td>\n      <td>0.033681</td>\n      <td>0.034844</td>\n      <td>0.315045</td>\n      <td>0.464190</td>\n      <td>-0.010697</td>\n      <td>-0.166478</td>\n      <td>-0.173866</td>\n      <td>1.632474</td>\n      <td>3.017288</td>\n      <td>-0.737680</td>\n      <td>0.142877</td>\n      <td>国寿安保安瑞纯债债券</td>\n      <td>NaT</td>\n      <td>1.000000e+11</td>\n      <td>0.08</td>\n    </tr>\n    <tr>\n      <th>132</th>\n      <td>005315</td>\n      <td>0.036697</td>\n      <td>0.038523</td>\n      <td>0.326935</td>\n      <td>0.406589</td>\n      <td>-0.011219</td>\n      <td>0.077749</td>\n      <td>0.109685</td>\n      <td>1.764290</td>\n      <td>2.349264</td>\n      <td>-0.717376</td>\n      <td>0.134516</td>\n      <td>泰达宏利交利3个月定开债A</td>\n      <td>2023-04-14</td>\n      <td>0.000000e+00</td>\n      <td>0.80</td>\n    </tr>\n    <tr>\n      <th>86</th>\n      <td>003614</td>\n      <td>0.035821</td>\n      <td>0.037265</td>\n      <td>0.285878</td>\n      <td>0.432124</td>\n      <td>-0.014314</td>\n      <td>0.006823</td>\n      <td>0.012706</td>\n      <td>1.309109</td>\n      <td>2.645410</td>\n      <td>-0.596915</td>\n      <td>0.134220</td>\n      <td>信诚景瑞债券A</td>\n      <td>NaT</td>\n      <td>1.000000e+11</td>\n      <td>0.08</td>\n    </tr>\n    <tr>\n      <th>194</th>\n      <td>006681</td>\n      <td>0.031133</td>\n      <td>0.031133</td>\n      <td>0.296366</td>\n      <td>0.426711</td>\n      <td>-0.011187</td>\n      <td>-0.372798</td>\n      <td>-0.459786</td>\n      <td>1.425385</td>\n      <td>2.582626</td>\n      <td>-0.718598</td>\n      <td>0.131421</td>\n      <td>景顺长城景泰聚利纯债</td>\n      <td>NaT</td>\n      <td>0.000000e+00</td>\n      <td>0.80</td>\n    </tr>\n    <tr>\n      <th>88</th>\n      <td>003668</td>\n      <td>0.037518</td>\n      <td>0.037905</td>\n      <td>0.304233</td>\n      <td>0.391075</td>\n      <td>-0.007973</td>\n      <td>0.144175</td>\n      <td>0.061999</td>\n      <td>1.512600</td>\n      <td>2.169342</td>\n      <td>-0.843691</td>\n      <td>0.129709</td>\n      <td>东方红益鑫纯债A</td>\n      <td>NaT</td>\n      <td>1.000000e+11</td>\n      <td>0.07</td>\n    </tr>\n    <tr>\n      <th>280</th>\n      <td>007703</td>\n      <td>0.030679</td>\n      <td>0.030679</td>\n      <td>0.322854</td>\n      <td>0.405580</td>\n      <td>-0.010792</td>\n      <td>-0.409533</td>\n      <td>-0.494745</td>\n      <td>1.719040</td>\n      <td>2.337572</td>\n      <td>-0.733983</td>\n      <td>0.129651</td>\n      <td>万家鑫盛纯债A</td>\n      <td>NaT</td>\n      <td>0.000000e+00</td>\n      <td>0.80</td>\n    </tr>\n    <tr>\n      <th>139</th>\n      <td>005531</td>\n      <td>0.038567</td>\n      <td>0.039298</td>\n      <td>0.279694</td>\n      <td>0.378142</td>\n      <td>-0.016173</td>\n      <td>0.229135</td>\n      <td>0.169332</td>\n      <td>1.240545</td>\n      <td>2.019353</td>\n      <td>-0.524585</td>\n      <td>0.123796</td>\n      <td>华安安悦债券A</td>\n      <td>NaT</td>\n      <td>0.000000e+00</td>\n      <td>0.80</td>\n    </tr>\n    <tr>\n      <th>168</th>\n      <td>006152</td>\n      <td>0.029503</td>\n      <td>0.029503</td>\n      <td>0.294502</td>\n      <td>0.381801</td>\n      <td>-0.011439</td>\n      <td>-0.504782</td>\n      <td>-0.585389</td>\n      <td>1.404715</td>\n      <td>2.061788</td>\n      <td>-0.708784</td>\n      <td>0.121224</td>\n      <td>国联安增鑫纯债A</td>\n      <td>NaT</td>\n      <td>1.000000e+11</td>\n      <td>0.06</td>\n    </tr>\n    <tr>\n      <th>229</th>\n      <td>007167</td>\n      <td>0.039671</td>\n      <td>0.039671</td>\n      <td>0.255527</td>\n      <td>0.373099</td>\n      <td>-0.020702</td>\n      <td>0.318491</td>\n      <td>0.198080</td>\n      <td>0.972619</td>\n      <td>1.960878</td>\n      <td>-0.348342</td>\n      <td>0.119835</td>\n      <td>华安安和债券A</td>\n      <td>NaT</td>\n      <td>0.000000e+00</td>\n      <td>0.80</td>\n    </tr>\n    <tr>\n      <th>100</th>\n      <td>003978</td>\n      <td>0.044585</td>\n      <td>0.045962</td>\n      <td>0.201256</td>\n      <td>0.379482</td>\n      <td>-0.022758</td>\n      <td>0.716420</td>\n      <td>0.682843</td>\n      <td>0.370949</td>\n      <td>2.034902</td>\n      <td>-0.268311</td>\n      <td>0.118772</td>\n      <td>中信建投稳祥A</td>\n      <td>NaT</td>\n      <td>1.000000e+11</td>\n      <td>0.06</td>\n    </tr>\n    <tr>\n      <th>263</th>\n      <td>007447</td>\n      <td>0.038551</td>\n      <td>0.038551</td>\n      <td>0.377847</td>\n      <td>0.305991</td>\n      <td>-0.024530</td>\n      <td>0.227862</td>\n      <td>0.111833</td>\n      <td>2.328730</td>\n      <td>1.182603</td>\n      <td>-0.199373</td>\n      <td>0.117208</td>\n      <td>平安惠泰纯债</td>\n      <td>NaT</td>\n      <td>1.000000e+11</td>\n      <td>0.08</td>\n    </tr>\n    <tr>\n      <th>77</th>\n      <td>003424</td>\n      <td>0.047802</td>\n      <td>0.047421</td>\n      <td>0.225085</td>\n      <td>0.338402</td>\n      <td>-0.019847</td>\n      <td>0.976863</td>\n      <td>0.795292</td>\n      <td>0.635130</td>\n      <td>1.558477</td>\n      <td>-0.381602</td>\n      <td>0.114748</td>\n      <td>江信洪福纯债</td>\n      <td>NaT</td>\n      <td>1.000000e+11</td>\n      <td>0.05</td>\n    </tr>\n    <tr>\n      <th>248</th>\n      <td>007329</td>\n      <td>0.030549</td>\n      <td>0.030549</td>\n      <td>0.398932</td>\n      <td>0.299565</td>\n      <td>-0.018601</td>\n      <td>-0.420050</td>\n      <td>-0.504754</td>\n      <td>2.562487</td>\n      <td>1.108070</td>\n      <td>-0.430109</td>\n      <td>0.114416</td>\n      <td>摩根瑞益纯债债券A</td>\n      <td>NaT</td>\n      <td>1.000000e+11</td>\n      <td>0.08</td>\n    </tr>\n    <tr>\n      <th>164</th>\n      <td>006071</td>\n      <td>0.029204</td>\n      <td>0.029204</td>\n      <td>0.299535</td>\n      <td>0.351269</td>\n      <td>-0.017205</td>\n      <td>-0.529019</td>\n      <td>-0.608454</td>\n      <td>1.460513</td>\n      <td>1.707705</td>\n      <td>-0.484426</td>\n      <td>0.114288</td>\n      <td>银河睿嘉债券A</td>\n      <td>NaT</td>\n      <td>1.000000e+11</td>\n      <td>0.08</td>\n    </tr>\n    <tr>\n      <th>149</th>\n      <td>005709</td>\n      <td>0.043484</td>\n      <td>0.043484</td>\n      <td>0.250474</td>\n      <td>0.328731</td>\n      <td>-0.014900</td>\n      <td>0.627257</td>\n      <td>0.491918</td>\n      <td>0.916599</td>\n      <td>1.446322</td>\n      <td>-0.574105</td>\n      <td>0.113904</td>\n      <td>华安鼎益债券A</td>\n      <td>NaT</td>\n      <td>1.000000e+11</td>\n      <td>0.08</td>\n    </tr>\n    <tr>\n      <th>216</th>\n      <td>007023</td>\n      <td>0.031165</td>\n      <td>0.031165</td>\n      <td>0.336626</td>\n      <td>0.319560</td>\n      <td>-0.013598</td>\n      <td>-0.370222</td>\n      <td>-0.457335</td>\n      <td>1.871723</td>\n      <td>1.339962</td>\n      <td>-0.624768</td>\n      <td>0.113554</td>\n      <td>中银证券安泽债券A</td>\n      <td>NaT</td>\n      <td>1.000000e+11</td>\n      <td>0.08</td>\n    </tr>\n    <tr>\n      <th>98</th>\n      <td>003891</td>\n      <td>0.031880</td>\n      <td>0.033004</td>\n      <td>0.239262</td>\n      <td>0.365625</td>\n      <td>-0.016808</td>\n      <td>-0.312290</td>\n      <td>-0.315598</td>\n      <td>0.792296</td>\n      <td>1.874195</td>\n      <td>-0.499877</td>\n      <td>0.113267</td>\n      <td>汇安嘉裕纯债债券A</td>\n      <td>NaT</td>\n      <td>1.000000e+11</td>\n      <td>0.03</td>\n    </tr>\n    <tr>\n      <th>102</th>\n      <td>004027</td>\n      <td>0.043938</td>\n      <td>0.045013</td>\n      <td>0.223043</td>\n      <td>0.337332</td>\n      <td>-0.028530</td>\n      <td>0.663991</td>\n      <td>0.609723</td>\n      <td>0.612490</td>\n      <td>1.546077</td>\n      <td>-0.043703</td>\n      <td>0.110857</td>\n      <td>广发景源纯债A</td>\n      <td>NaT</td>\n      <td>1.000000e+11</td>\n      <td>0.08</td>\n    </tr>\n  </tbody>\n</table>\n</div>"
     },
     "execution_count": 90,
     "metadata": {},
     "output_type": "execute_result"
    }
   ],
   "source": [
    "best_fund_code"
   ],
   "metadata": {
    "collapsed": false,
    "ExecuteTime": {
     "start_time": "2023-04-16T17:27:07.899971Z",
     "end_time": "2023-04-16T17:27:07.913947Z"
    }
   }
  },
  {
   "cell_type": "markdown",
   "source": [
    "其他不足与思考：\n",
    "1. 是否应对基金规模进行上下限限制\n",
    "2. 无法获取基金规模变动情况，对于基金规模变动较大的基金，是否应该进行排除\n",
    "3. 对于综合指标的权重分配是否合理，是否应该对权重进行调整"
   ],
   "metadata": {
    "collapsed": false
   }
  },
  {
   "cell_type": "code",
   "execution_count": null,
   "outputs": [],
   "source": [
    "#长债基金选择英文版\n"
   ],
   "metadata": {
    "collapsed": false
   }
  }
 ],
 "metadata": {
  "kernelspec": {
   "display_name": "Python 3",
   "language": "python",
   "name": "python3"
  },
  "language_info": {
   "codemirror_mode": {
    "name": "ipython",
    "version": 2
   },
   "file_extension": ".py",
   "mimetype": "text/x-python",
   "name": "python",
   "nbconvert_exporter": "python",
   "pygments_lexer": "ipython2",
   "version": "2.7.6"
  }
 },
 "nbformat": 4,
 "nbformat_minor": 0
}
